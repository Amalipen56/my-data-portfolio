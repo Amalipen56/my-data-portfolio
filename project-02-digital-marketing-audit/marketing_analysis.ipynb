{
 "cells": [
  {
   "cell_type": "markdown",
   "id": "a0c0afd3",
   "metadata": {},
   "source": [
    "# 📢 Digital Marketing Audit for a Nigerian Fashion Brand\n",
    "This notebook analyzes simulated multi-platform marketing data to identify top-performing campaigns, target audiences, and revenue trends."
   ]
  },
  {
   "cell_type": "code",
   "execution_count": null,
   "id": "87865b72",
   "metadata": {},
   "outputs": [],
   "source": [
    "import pandas as pd\n",
    "import matplotlib.pyplot as plt\n",
    "import seaborn as sns"
   ]
  },
  {
   "cell_type": "code",
   "execution_count": null,
   "id": "80234f58",
   "metadata": {},
   "outputs": [],
   "source": [
    "df = pd.read_excel('marketing_campaign_data.xlsx')\n",
    "df.head()"
   ]
  },
  {
   "cell_type": "markdown",
   "id": "c497e5fc",
   "metadata": {},
   "source": [
    "## 📊 Conversions by Platform"
   ]
  },
  {
   "cell_type": "code",
   "execution_count": null,
   "id": "6650a3a0",
   "metadata": {},
   "outputs": [],
   "source": [
    "plt.figure(figsize=(8, 6))\n",
    "sns.boxplot(data=df, x='Platform', y='Conversions')\n",
    "plt.title('Conversions by Advertising Platform')\n",
    "plt.show()"
   ]
  },
  {
   "cell_type": "markdown",
   "id": "5fc757da",
   "metadata": {},
   "source": [
    "## 💰 Revenue by Age Group and Gender"
   ]
  },
  {
   "cell_type": "code",
   "execution_count": null,
   "id": "96054e1a",
   "metadata": {},
   "outputs": [],
   "source": [
    "plt.figure(figsize=(10, 6))\n",
    "sns.barplot(data=df, x='Age Group', y='Revenue (₦)', hue='Gender', estimator=sum)\n",
    "plt.title('Total Revenue by Age Group and Gender')\n",
    "plt.show()"
   ]
  },
  {
   "cell_type": "markdown",
   "id": "42eb0992",
   "metadata": {},
   "source": [
    "## 🔄 Bounce Rate by Platform"
   ]
  },
  {
   "cell_type": "code",
   "execution_count": null,
   "id": "013b6384",
   "metadata": {},
   "outputs": [],
   "source": [
    "plt.figure(figsize=(8, 6))\n",
    "sns.violinplot(data=df, x='Platform', y='Bounce Rate (%)')\n",
    "plt.title('Bounce Rate by Platform')\n",
    "plt.show()"
   ]
  }
 ],
 "metadata": {},
 "nbformat": 4,
 "nbformat_minor": 5
}