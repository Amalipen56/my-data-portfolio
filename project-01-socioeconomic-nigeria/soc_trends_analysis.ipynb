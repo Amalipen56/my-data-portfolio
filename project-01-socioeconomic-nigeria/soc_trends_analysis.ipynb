{
 "cells": [
  {
   "cell_type": "markdown",
   "id": "e051bf7a",
   "metadata": {},
   "source": [
    "# 📊 Socio-Economic Trend Analysis in Nigeria\n",
    "This notebook explores socio-economic indicators across Nigerian states using simulated data."
   ]
  },
  {
   "cell_type": "code",
   "execution_count": null,
   "id": "db6c5cff",
   "metadata": {},
   "outputs": [],
   "source": [
    "import pandas as pd\n",
    "import matplotlib.pyplot as plt\n",
    "import seaborn as sns"
   ]
  },
  {
   "cell_type": "code",
   "execution_count": null,
   "id": "0b04e6a0",
   "metadata": {},
   "outputs": [],
   "source": [
    "df = pd.read_excel('nigeria_gdp_trends.xlsx')\n",
    "df.head()"
   ]
  },
  {
   "cell_type": "markdown",
   "id": "4d26fb8f",
   "metadata": {},
   "source": [
    "## 🔍 Correlation Analysis"
   ]
  },
  {
   "cell_type": "code",
   "execution_count": null,
   "id": "d150a1f8",
   "metadata": {},
   "outputs": [],
   "source": [
    "plt.figure(figsize=(10, 6))\n",
    "sns.heatmap(df.drop(columns=['State', 'Year']).corr(), annot=True, cmap='coolwarm')\n",
    "plt.title('Correlation Between Socio-Economic Indicators')\n",
    "plt.show()"
   ]
  },
  {
   "cell_type": "markdown",
   "id": "d3986f8c",
   "metadata": {},
   "source": [
    "## 📈 GDP Trends by State"
   ]
  },
  {
   "cell_type": "code",
   "execution_count": null,
   "id": "8ed61dc8",
   "metadata": {},
   "outputs": [],
   "source": [
    "states = df['State'].unique()\n",
    "plt.figure(figsize=(12, 6))\n",
    "for state in states:\n",
    "    subset = df[df['State'] == state]\n",
    "    plt.plot(subset['Year'], subset['GDP (₦)'], label=state)\n",
    "plt.title('GDP Trends (2013-2022) by State')\n",
    "plt.xlabel('Year')\n",
    "plt.ylabel('GDP (₦)')\n",
    "plt.legend()\n",
    "plt.show()"
   ]
  }
 ],
 "metadata": {},
 "nbformat": 4,
 "nbformat_minor": 5
}